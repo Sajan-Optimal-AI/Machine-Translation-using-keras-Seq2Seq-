{
  "nbformat": 4,
  "nbformat_minor": 0,
  "metadata": {
    "colab": {
      "name": "Seq2Seq NN Machine Translation (English to Tamil) using Keras.ipynb",
      "provenance": [],
      "collapsed_sections": []
    },
    "kernelspec": {
      "name": "python3",
      "display_name": "Python 3"
    },
    "language_info": {
      "name": "python"
    }
  },
  "cells": [
    {
      "cell_type": "code",
      "metadata": {
        "id": "ByKE9yKtyBSK"
      },
      "source": [
        "import pandas as pd\n",
        "Data = pd.read_table('/content/drive/MyDrive/Tamil DATASET/tam.txt',names=['English','Tamil','Will be dropped'])"
      ],
      "execution_count": 2,
      "outputs": []
    },
    {
      "cell_type": "code",
      "metadata": {
        "colab": {
          "base_uri": "https://localhost:8080/"
        },
        "id": "mOrcYBuo1i8G",
        "outputId": "de584eb2-9c8a-4b09-c6a5-1f5a8b8cf03f"
      },
      "source": [
        "Data.shape"
      ],
      "execution_count": 6,
      "outputs": [
        {
          "output_type": "execute_result",
          "data": {
            "text/plain": [
              "(203, 3)"
            ]
          },
          "metadata": {
            "tags": []
          },
          "execution_count": 6
        }
      ]
    },
    {
      "cell_type": "code",
      "metadata": {
        "colab": {
          "base_uri": "https://localhost:8080/",
          "height": 204
        },
        "id": "77AozUEB1pKc",
        "outputId": "532fc46c-663e-490e-f4f8-7b2ec044aecc"
      },
      "source": [
        "Data.head()"
      ],
      "execution_count": 5,
      "outputs": [
        {
          "output_type": "execute_result",
          "data": {
            "text/html": [
              "<div>\n",
              "<style scoped>\n",
              "    .dataframe tbody tr th:only-of-type {\n",
              "        vertical-align: middle;\n",
              "    }\n",
              "\n",
              "    .dataframe tbody tr th {\n",
              "        vertical-align: top;\n",
              "    }\n",
              "\n",
              "    .dataframe thead th {\n",
              "        text-align: right;\n",
              "    }\n",
              "</style>\n",
              "<table border=\"1\" class=\"dataframe\">\n",
              "  <thead>\n",
              "    <tr style=\"text-align: right;\">\n",
              "      <th></th>\n",
              "      <th>English</th>\n",
              "      <th>Tamil</th>\n",
              "      <th>Will be dropped</th>\n",
              "    </tr>\n",
              "  </thead>\n",
              "  <tbody>\n",
              "    <tr>\n",
              "      <th>0</th>\n",
              "      <td>I slept.</td>\n",
              "      <td>நான் தூங்கினேன்.</td>\n",
              "      <td>CC-BY 2.0 (France) Attribution: tatoeba.org #3...</td>\n",
              "    </tr>\n",
              "    <tr>\n",
              "      <th>1</th>\n",
              "      <td>Calm down.</td>\n",
              "      <td>அமைதியாக இருங்கள்</td>\n",
              "      <td>CC-BY 2.0 (France) Attribution: tatoeba.org #4...</td>\n",
              "    </tr>\n",
              "    <tr>\n",
              "      <th>2</th>\n",
              "      <td>I'll walk.</td>\n",
              "      <td>நான் நடப்பேன்.</td>\n",
              "      <td>CC-BY 2.0 (France) Attribution: tatoeba.org #2...</td>\n",
              "    </tr>\n",
              "    <tr>\n",
              "      <th>3</th>\n",
              "      <td>Who is he?</td>\n",
              "      <td>அவன் யார்?</td>\n",
              "      <td>CC-BY 2.0 (France) Attribution: tatoeba.org #3...</td>\n",
              "    </tr>\n",
              "    <tr>\n",
              "      <th>4</th>\n",
              "      <td>Who knows?</td>\n",
              "      <td>யாருக்குத் தெரியும்?</td>\n",
              "      <td>CC-BY 2.0 (France) Attribution: tatoeba.org #2...</td>\n",
              "    </tr>\n",
              "  </tbody>\n",
              "</table>\n",
              "</div>"
            ],
            "text/plain": [
              "      English  ...                                    Will be dropped\n",
              "0    I slept.  ...  CC-BY 2.0 (France) Attribution: tatoeba.org #3...\n",
              "1  Calm down.  ...  CC-BY 2.0 (France) Attribution: tatoeba.org #4...\n",
              "2  I'll walk.  ...  CC-BY 2.0 (France) Attribution: tatoeba.org #2...\n",
              "3  Who is he?  ...  CC-BY 2.0 (France) Attribution: tatoeba.org #3...\n",
              "4  Who knows?  ...  CC-BY 2.0 (France) Attribution: tatoeba.org #2...\n",
              "\n",
              "[5 rows x 3 columns]"
            ]
          },
          "metadata": {
            "tags": []
          },
          "execution_count": 5
        }
      ]
    },
    {
      "cell_type": "code",
      "metadata": {
        "id": "JbSjqGlm2r3c"
      },
      "source": [
        "Data.drop('Will be dropped', inplace=True, axis=1)"
      ],
      "execution_count": 7,
      "outputs": []
    },
    {
      "cell_type": "code",
      "metadata": {
        "colab": {
          "base_uri": "https://localhost:8080/",
          "height": 204
        },
        "id": "K8HHde6x1-t0",
        "outputId": "9e9e106f-f297-4d0d-baaa-97e2b8f576e6"
      },
      "source": [
        "Data.head()"
      ],
      "execution_count": 8,
      "outputs": [
        {
          "output_type": "execute_result",
          "data": {
            "text/html": [
              "<div>\n",
              "<style scoped>\n",
              "    .dataframe tbody tr th:only-of-type {\n",
              "        vertical-align: middle;\n",
              "    }\n",
              "\n",
              "    .dataframe tbody tr th {\n",
              "        vertical-align: top;\n",
              "    }\n",
              "\n",
              "    .dataframe thead th {\n",
              "        text-align: right;\n",
              "    }\n",
              "</style>\n",
              "<table border=\"1\" class=\"dataframe\">\n",
              "  <thead>\n",
              "    <tr style=\"text-align: right;\">\n",
              "      <th></th>\n",
              "      <th>English</th>\n",
              "      <th>Tamil</th>\n",
              "    </tr>\n",
              "  </thead>\n",
              "  <tbody>\n",
              "    <tr>\n",
              "      <th>0</th>\n",
              "      <td>I slept.</td>\n",
              "      <td>நான் தூங்கினேன்.</td>\n",
              "    </tr>\n",
              "    <tr>\n",
              "      <th>1</th>\n",
              "      <td>Calm down.</td>\n",
              "      <td>அமைதியாக இருங்கள்</td>\n",
              "    </tr>\n",
              "    <tr>\n",
              "      <th>2</th>\n",
              "      <td>I'll walk.</td>\n",
              "      <td>நான் நடப்பேன்.</td>\n",
              "    </tr>\n",
              "    <tr>\n",
              "      <th>3</th>\n",
              "      <td>Who is he?</td>\n",
              "      <td>அவன் யார்?</td>\n",
              "    </tr>\n",
              "    <tr>\n",
              "      <th>4</th>\n",
              "      <td>Who knows?</td>\n",
              "      <td>யாருக்குத் தெரியும்?</td>\n",
              "    </tr>\n",
              "  </tbody>\n",
              "</table>\n",
              "</div>"
            ],
            "text/plain": [
              "      English                 Tamil\n",
              "0    I slept.      நான் தூங்கினேன்.\n",
              "1  Calm down.     அமைதியாக இருங்கள்\n",
              "2  I'll walk.        நான் நடப்பேன்.\n",
              "3  Who is he?            அவன் யார்?\n",
              "4  Who knows?  யாருக்குத் தெரியும்?"
            ]
          },
          "metadata": {
            "tags": []
          },
          "execution_count": 8
        }
      ]
    },
    {
      "cell_type": "code",
      "metadata": {
        "id": "fP4_Lrps3KgU"
      },
      "source": [
        "#To lowercase all the character:\n",
        "Data.English = Data.English.apply(lambda x:x.lower())\n",
        "Data.Tamil = Data.Tamil.apply(lambda x:x.lower())"
      ],
      "execution_count": 9,
      "outputs": []
    },
    {
      "cell_type": "code",
      "metadata": {
        "id": "ef5Qg5yw4aNH"
      },
      "source": [
        "#To remove quotes and comma:\n",
        "import re\n",
        "Data.English = Data.English.apply(lambda x: re.sub(\"'\", '', x)).apply(lambda x: re.sub(\",\", 'COMMA', x))\n",
        "Data.Tamil = Data.Tamil.apply(lambda x: re.sub(\"'\", '', x)).apply(lambda x: re.sub(\",\", 'COMMA', x))"
      ],
      "execution_count": 10,
      "outputs": []
    },
    {
      "cell_type": "code",
      "metadata": {
        "id": "ROYZ3jk-5asl"
      },
      "source": [
        "#To remove special characters\n",
        "import string\n",
        "from string import digits\n",
        "exclude = set (string.punctuation)     #First set special character dictionary\n",
        "Data.English = Data.English.apply(lambda x:''.join(ch for ch in x if ch not in exclude))\n",
        "Data.Tamil = Data.Tamil.apply(lambda x:''.join(ch for ch in x if ch not in exclude))"
      ],
      "execution_count": 11,
      "outputs": []
    },
    {
      "cell_type": "code",
      "metadata": {
        "id": "ge5lpXys-JKR"
      },
      "source": [
        "#To Remove all numbers:\n",
        "Digits = str.maketrans('','', digits)\n",
        "Data.English = Data.English.apply(lambda x: x.translate(Digits))\n",
        "Data.Tamil = Data.Tamil.apply(lambda x: x.translate(Digits))"
      ],
      "execution_count": 12,
      "outputs": []
    },
    {
      "cell_type": "code",
      "metadata": {
        "id": "YgpbZRfIAX7b"
      },
      "source": [
        "#Remove extra spaces:\n",
        "Data.English = Data.English.apply(lambda x:x.strip())\n",
        "Data.Tamil = Data.Tamil.apply(lambda x:x.strip())\n",
        "Data.English=Data.English.apply(lambda x: re.sub(\" +\", \" \", x))\n",
        "Data.Tamil=Data.Tamil.apply(lambda x: re.sub(\" +\", \" \", x))"
      ],
      "execution_count": 13,
      "outputs": []
    },
    {
      "cell_type": "code",
      "metadata": {
        "id": "ni8ptERdEVUD"
      },
      "source": [
        "# Add start and end tokens to target sequences\n",
        "Data.Tamil = Data.Tamil.apply(lambda x : '<sos> '+ x + ' <eos>')"
      ],
      "execution_count": 14,
      "outputs": []
    },
    {
      "cell_type": "code",
      "metadata": {
        "colab": {
          "base_uri": "https://localhost:8080/",
          "height": 204
        },
        "id": "7ThME62tEi-B",
        "outputId": "941fac19-6faa-41d6-8940-176aa81dc85d"
      },
      "source": [
        "Data.head()"
      ],
      "execution_count": 15,
      "outputs": [
        {
          "output_type": "execute_result",
          "data": {
            "text/html": [
              "<div>\n",
              "<style scoped>\n",
              "    .dataframe tbody tr th:only-of-type {\n",
              "        vertical-align: middle;\n",
              "    }\n",
              "\n",
              "    .dataframe tbody tr th {\n",
              "        vertical-align: top;\n",
              "    }\n",
              "\n",
              "    .dataframe thead th {\n",
              "        text-align: right;\n",
              "    }\n",
              "</style>\n",
              "<table border=\"1\" class=\"dataframe\">\n",
              "  <thead>\n",
              "    <tr style=\"text-align: right;\">\n",
              "      <th></th>\n",
              "      <th>English</th>\n",
              "      <th>Tamil</th>\n",
              "    </tr>\n",
              "  </thead>\n",
              "  <tbody>\n",
              "    <tr>\n",
              "      <th>0</th>\n",
              "      <td>i slept</td>\n",
              "      <td>&lt;sos&gt; நான் தூங்கினேன் &lt;eos&gt;</td>\n",
              "    </tr>\n",
              "    <tr>\n",
              "      <th>1</th>\n",
              "      <td>calm down</td>\n",
              "      <td>&lt;sos&gt; அமைதியாக இருங்கள் &lt;eos&gt;</td>\n",
              "    </tr>\n",
              "    <tr>\n",
              "      <th>2</th>\n",
              "      <td>ill walk</td>\n",
              "      <td>&lt;sos&gt; நான் நடப்பேன் &lt;eos&gt;</td>\n",
              "    </tr>\n",
              "    <tr>\n",
              "      <th>3</th>\n",
              "      <td>who is he</td>\n",
              "      <td>&lt;sos&gt; அவன் யார் &lt;eos&gt;</td>\n",
              "    </tr>\n",
              "    <tr>\n",
              "      <th>4</th>\n",
              "      <td>who knows</td>\n",
              "      <td>&lt;sos&gt; யாருக்குத் தெரியும் &lt;eos&gt;</td>\n",
              "    </tr>\n",
              "  </tbody>\n",
              "</table>\n",
              "</div>"
            ],
            "text/plain": [
              "     English                            Tamil\n",
              "0    i slept      <sos> நான் தூங்கினேன் <eos>\n",
              "1  calm down    <sos> அமைதியாக இருங்கள் <eos>\n",
              "2   ill walk        <sos> நான் நடப்பேன் <eos>\n",
              "3  who is he            <sos> அவன் யார் <eos>\n",
              "4  who knows  <sos> யாருக்குத் தெரியும் <eos>"
            ]
          },
          "metadata": {
            "tags": []
          },
          "execution_count": 15
        }
      ]
    },
    {
      "cell_type": "code",
      "metadata": {
        "colab": {
          "base_uri": "https://localhost:8080/"
        },
        "id": "lqwu3gAcG9qU",
        "outputId": "aa6819b4-2674-4b71-f41d-70037027f35c"
      },
      "source": [
        "#To form vocabulary # known as unique vocabulary:\n",
        "All_ENG_Words = set ()\n",
        "for ENG in Data.English:\n",
        "  for word in ENG.split():\n",
        "    if word not in All_ENG_Words:\n",
        "      All_ENG_Words.add(word)\n",
        "\n",
        "All_TAM_Words = set ()\n",
        "for TAM in Data.Tamil:\n",
        "  for word in TAM.split():\n",
        "    if word not in All_TAM_Words:\n",
        "      All_TAM_Words.add(word)\n",
        "      \n",
        "len(All_ENG_Words),len(All_TAM_Words)"
      ],
      "execution_count": 16,
      "outputs": [
        {
          "output_type": "execute_result",
          "data": {
            "text/plain": [
              "(387, 557)"
            ]
          },
          "metadata": {
            "tags": []
          },
          "execution_count": 16
        }
      ]
    },
    {
      "cell_type": "code",
      "metadata": {
        "id": "57h3owIpOri3"
      },
      "source": [
        "num_encoder_tokens = len(All_ENG_Words)\n",
        "num_decoder_tokens = len(All_TAM_Words)"
      ],
      "execution_count": 17,
      "outputs": []
    },
    {
      "cell_type": "code",
      "metadata": {
        "colab": {
          "base_uri": "https://localhost:8080/"
        },
        "id": "M2kzGVhbKdsm",
        "outputId": "8a80d797-9551-4e60-ea99-0f9e7d76a01b"
      },
      "source": [
        "#To find maximum length of source sequence:\n",
        "import numpy as np\n",
        "length_list=[]\n",
        "for length in Data.English:\n",
        "  length_list.append(len(length.split(' ')))\n",
        "max_length_Source = np.max(length_list)\n",
        "print('max_input_length: ', max_length_Source)\n"
      ],
      "execution_count": 18,
      "outputs": [
        {
          "output_type": "stream",
          "text": [
            "max_input_length:  19\n"
          ],
          "name": "stdout"
        }
      ]
    },
    {
      "cell_type": "code",
      "metadata": {
        "colab": {
          "base_uri": "https://localhost:8080/"
        },
        "id": "Um_v_kiiMEgN",
        "outputId": "a60ea695-dda6-423d-e3f7-d4a4b15d4c88"
      },
      "source": [
        "#To find maximum length of target sentence:\n",
        "length_list=[]\n",
        "for length in Data.Tamil:\n",
        "  length_list.append(len(length.split(' ')))\n",
        "max_length_Target = np.max(length_list)\n",
        "print('max_output_length: ', max_length_Target)"
      ],
      "execution_count": 19,
      "outputs": [
        {
          "output_type": "stream",
          "text": [
            "max_output_length:  13\n"
          ],
          "name": "stdout"
        }
      ]
    },
    {
      "cell_type": "code",
      "metadata": {
        "id": "6S195cCuUVik"
      },
      "source": [
        "# making a list of all input and output words and sorting them out\n",
        "input_words = sorted(list(All_ENG_Words))\n",
        "target_words = sorted(list(All_TAM_Words))\n",
        "#print('all input words: ', input_words)\n",
        "#print('all output words: ', target_words)"
      ],
      "execution_count": 20,
      "outputs": []
    },
    {
      "cell_type": "code",
      "metadata": {
        "colab": {
          "base_uri": "https://localhost:8080/"
        },
        "id": "_dgink0xsa_0",
        "outputId": "a96b8017-c432-41ec-abb0-a4e1d60778b6"
      },
      "source": [
        "# getting index for words as these indexes will behave as words for machine interactions\n",
        "input_token_index = dict([(word,i) for i,word in enumerate(input_words)])\n",
        "output_token_index = dict([(word,i) for i,word in enumerate(target_words)])\n",
        "print('input token index: ', input_token_index)\n",
        "print('output token index: ', output_token_index)"
      ],
      "execution_count": 21,
      "outputs": [
        {
          "output_type": "stream",
          "text": [
            "input token index:  {'COMMA': 0, 'a': 1, 'able': 2, 'about': 3, 'abroad': 4, 'account': 5, 'afraid': 6, 'after': 7, 'afternoon': 8, 'again': 9, 'ago': 10, 'ahead': 11, 'alive': 12, 'all': 13, 'am': 14, 'and': 15, 'angry': 16, 'answer': 17, 'any': 18, 'anymore': 19, 'anyone': 20, 'anything': 21, 'anywhere': 22, 'apple': 23, 'are': 24, 'arrived': 25, 'asked': 26, 'ate': 27, 'attacked': 28, 'australia': 29, 'aware': 30, 'awayCOMMA': 31, 'back': 32, 'ball': 33, 'be': 34, 'bears': 35, 'beautiful': 36, 'became': 37, 'because': 38, 'been': 39, 'before': 40, 'began': 41, 'begin': 42, 'bell': 43, 'belongs': 44, 'between': 45, 'beware': 46, 'bicycle': 47, 'birthday': 48, 'bit': 49, 'boiled': 50, 'book': 51, 'books': 52, 'bottom': 53, 'bought': 54, 'boy': 55, 'brother': 56, 'burned': 57, 'business': 58, 'by': 59, 'cake': 60, 'calm': 61, 'came': 62, 'can': 63, 'cant': 64, 'cap': 65, 'car': 66, 'cd': 67, 'cds': 68, 'charge': 69, 'church': 70, 'clearly': 71, 'close': 72, 'come': 73, 'contact': 74, 'cop': 75, 'could': 76, 'crazy': 77, 'cry': 78, 'crying': 79, 'dad': 80, 'danced': 81, 'danger': 82, 'dark': 83, 'death': 84, 'decent': 85, 'decided': 86, 'did': 87, 'didnt': 88, 'do': 89, 'does': 90, 'doesnt': 91, 'dog': 92, 'dogs': 93, 'dont': 94, 'down': 95, 'drank': 96, 'dress': 97, 'drink': 98, 'drive': 99, 'driven': 100, 'easy': 101, 'eat': 102, 'eggs': 103, 'eight': 104, 'engaged': 105, 'every': 106, 'everyone': 107, 'expect': 108, 'fast': 109, 'father': 110, 'fault': 111, 'find': 112, 'finger': 113, 'floor': 114, 'follow': 115, 'fond': 116, 'food': 117, 'for': 118, 'four': 119, 'free': 120, 'friend': 121, 'friends': 122, 'friendship': 123, 'full': 124, 'fun': 125, 'future': 126, 'gave': 127, 'get': 128, 'give': 129, 'glad': 130, 'glanced': 131, 'glass': 132, 'go': 133, 'goes': 134, 'going': 135, 'got': 136, 'gum': 137, 'had': 138, 'hand': 139, 'happy': 140, 'happyCOMMA': 141, 'has': 142, 'hates': 143, 'have': 144, 'he': 145, 'heard': 146, 'help': 147, 'her': 148, 'here': 149, 'hes': 150, 'him': 151, 'himself': 152, 'hit': 153, 'home': 154, 'house': 155, 'houses': 156, 'how': 157, 'hurts': 158, 'i': 159, 'if': 160, 'ill': 161, 'im': 162, 'in': 163, 'inch': 164, 'is': 165, 'it': 166, 'its': 167, 'ive': 168, 'japan': 169, 'john': 170, 'just': 171, 'keep': 172, 'kind': 173, 'know': 174, 'known': 175, 'knows': 176, 'lake': 177, 'leave': 178, 'let': 179, 'lie': 180, 'like': 181, 'likes': 182, 'listen': 183, 'live': 184, 'long': 185, 'looks': 186, 'lot': 187, 'made': 188, 'magazine': 189, 'married': 190, 'mary': 191, 'marys': 192, 'may': 193, 'me': 194, 'midnight': 195, 'mistake': 196, 'money': 197, 'most': 198, 'much': 199, 'mutual': 200, 'my': 201, 'need': 202, 'never': 203, 'news': 204, 'next': 205, 'no': 206, 'nobody': 207, 'none': 208, 'not': 209, 'notice': 210, 'now': 211, 'objected': 212, 'of': 213, 'old': 214, 'on': 215, 'others': 216, 'our': 217, 'out': 218, 'painted': 219, 'pair': 220, 'passport': 221, 'pay': 222, 'pens': 223, 'people': 224, 'phone': 225, 'piano': 226, 'picked': 227, 'pickpockets': 228, 'picture': 229, 'piece': 230, 'pilot': 231, 'place': 232, 'plan': 233, 'play': 234, 'please': 235, 'pocket': 236, 'price': 237, 'prison': 238, 'proud': 239, 'put': 240, 'quickly': 241, 'rain': 242, 'raise': 243, 'ran': 244, 'rang': 245, 'read': 246, 'ready': 247, 'requires': 248, 'rich': 249, 'ride': 250, 'right': 251, 'ring': 252, 'roll': 253, 'room': 254, 'rope': 255, 'run': 256, 'runs': 257, 'sat': 258, 'say': 259, 'says': 260, 'school': 261, 'sea': 262, 'see': 263, 'seems': 264, 'sharing': 265, 'she': 266, 'shoes': 267, 'short': 268, 'shouldnt': 269, 'shut': 270, 'sickCOMMA': 271, 'sides': 272, 'silent': 273, 'since': 274, 'sing': 275, 'sister': 276, 'sit': 277, 'six': 278, 'ski': 279, 'sky': 280, 'sleep': 281, 'slept': 282, 'slowly': 283, 'smiled': 284, 'snakes': 285, 'soccer': 286, 'some': 287, 'something': 288, 'son': 289, 'sons': 290, 'soon': 291, 'speak': 292, 'speaks': 293, 'spokeCOMMA': 294, 'spread': 295, 'square': 296, 'stars': 297, 'started': 298, 'still': 299, 'stones': 300, 'stood': 301, 'study': 302, 'suggested': 303, 'sunday': 304, 'suppose': 305, 'sure': 306, 'swallow': 307, 'swam': 308, 'sweet': 309, 'swimming': 310, 'take': 311, 'talk': 312, 'talking': 313, 'taller': 314, 'taxi': 315, 'teens': 316, 'tell': 317, 'than': 318, 'that': 319, 'thats': 320, 'the': 321, 'them': 322, 'there': 323, 'theres': 324, 'they': 325, 'theyre': 326, 'thief': 327, 'think': 328, 'this': 329, 'those': 330, 'thought': 331, 'three': 332, 'throat': 333, 'through': 334, 'throw': 335, 'time': 336, 'tired': 337, 'to': 338, 'together': 339, 'told': 340, 'tom': 341, 'too': 342, 'touch': 343, 'town': 344, 'train': 345, 'trust': 346, 'trying': 347, 'until': 348, 'up': 349, 'us': 350, 'use': 351, 'very': 352, 'vicious': 353, 'wage': 354, 'wait': 355, 'wake': 356, 'walk': 357, 'want': 358, 'was': 359, 'way': 360, 'we': 361, 'wedding': 362, 'well': 363, 'went': 364, 'were': 365, 'what': 366, 'when': 367, 'where': 368, 'which': 369, 'who': 370, 'why': 371, 'will': 372, 'with': 373, 'wonder': 374, 'word': 375, 'wore': 376, 'work': 377, 'workers': 378, 'write': 379, 'year': 380, 'you': 381, 'youd': 382, 'younger': 383, 'your': 384, 'youre': 385, 'yours': 386}\n",
            "output token index:  {'<eos>': 0, '<sos>': 1, 'cd': 2, 'அ': 3, 'அங்குலமும்': 4, 'அங்கே': 5, 'அடிக்கப்': 6, 'அடித்தாள்': 7, 'அடைகிறேன்': 8, 'அணிந்திருந்தாள்': 9, 'அணிய': 10, 'அணிவித்தான்': 11, 'அதிகரித்துக்': 12, 'அது': 13, 'அதை': 14, 'அதைப்': 15, 'அதைப்பற்றி': 16, 'அந்த': 17, 'அனைவரும்': 18, 'அன்பாக': 19, 'அன்பானவள்': 20, 'அபாயத்தை': 21, 'அமரவும்': 22, 'அமருங்கள்COMMAதயவு': 23, 'அமர்ந்தாள்': 24, 'அமர்ந்தேன்': 25, 'அமைதி': 26, 'அமைதியாக': 27, 'அருகில்': 28, 'அறிந்திருக்க': 29, 'அறிமுகமானவன்': 30, 'அறையை': 31, 'அல்லது': 32, 'அழ': 33, 'அழகான': 34, 'அழுதுகொண்டேயிருக்கிறான்': 35, 'அவனால்': 36, 'அவனிடம்': 37, 'அவனுக்கு': 38, 'அவனுக்குக்': 39, 'அவனே': 40, 'அவனை': 41, 'அவனைக்': 42, 'அவனோடு': 43, 'அவன்': 44, 'அவரால்': 45, 'அவருக்கு': 46, 'அவர்': 47, 'அவர்களுக்கு': 48, 'அவர்கள்': 49, 'அவளிடம்': 50, 'அவளுக்கு': 51, 'அவளுக்குச்': 52, 'அவளோடு': 53, 'அவள்': 54, 'அவைகள்': 55, 'அவ்வளவு': 56, 'ஆச்சரியமடைகிறேன்': 57, 'ஆடினாள்': 58, 'ஆடை': 59, 'ஆப்பிள்': 60, 'ஆரம்பிக்கிறது': 61, 'ஆரம்பித்தான்': 62, 'ஆரம்பித்தாள்': 63, 'ஆரம்பித்தோம்': 64, 'ஆறு': 65, 'ஆஸ்திரேலியாவில்': 66, 'இங்கிருந்து': 67, 'இங்கே': 68, 'இடையில்': 69, 'இதற்கு': 70, 'இதில்': 71, 'இது': 72, 'இதை': 73, 'இதைக்': 74, 'இந்த': 75, 'இனிப்பாக': 76, 'இன்னும்': 77, 'இப்பொழுது': 78, 'இப்பொழுதுதான்': 79, 'இயலாது': 80, 'இரயிலில்': 81, 'இரு': 82, 'இருக்க': 83, 'இருக்கவில்லை': 84, 'இருக்கவும்': 85, 'இருக்கின்றன': 86, 'இருக்கின்றனவா': 87, 'இருக்கிறதா': 88, 'இருக்கிறது': 89, 'இருக்கிறான்': 90, 'இருக்கிறார்கள்': 91, 'இருக்கிறாள்': 92, 'இருக்கிறீர்களா': 93, 'இருக்கிறேன்': 94, 'இருக்கிறோம்': 95, 'இருக்கு': 96, 'இருக்கும்': 97, 'இருங்கள்': 98, 'இருட்டாக': 99, 'இருந்ததில்லை': 100, 'இருந்தார்': 101, 'இருந்தோம்': 102, 'இருப்பாய்': 103, 'இறங்கினேன்': 104, 'இறந்து': 105, 'இல்லை': 106, 'இள': 107, 'இவர்களில்': 108, 'உங்களுக்கு': 109, 'உங்களுடைய': 110, 'உங்கள்': 111, 'உடனே': 112, 'உடல்': 113, 'உணவு': 114, 'உண்டு': 115, 'உதவி': 116, 'உனக்குத்': 117, 'உன்': 118, 'உன்னிடம்': 119, 'உன்னுடைய': 120, 'உன்னை': 121, 'உன்னைத்': 122, 'உன்னைப்': 123, 'உயரமாக': 124, 'உயிருடனிருக்கிறான்': 125, 'உருட்டி': 126, 'உறுதியாக': 127, 'உள்ளன': 128, 'ஊரின்': 129, 'எங்களுக்கு': 130, 'எங்களுடன்': 131, 'எங்களுடைய': 132, 'எங்களை': 133, 'எங்கு': 134, 'எங்கே': 135, 'எடுத்தார்': 136, 'எட்டு': 137, 'எண்ணிக்கொண்டிருக்காதே': 138, 'எண்ணினேன்': 139, 'எண்ணுகிறார்கள்': 140, 'எண்ணுகிறேன்': 141, 'எதற்கும்': 142, 'எதிர்': 143, 'எதிர்ப்புத்': 144, 'என': 145, 'எனக்கு': 146, 'எனக்குக்': 147, 'எனக்குத்': 148, 'எனக்குப்': 149, 'என்': 150, 'என்ன': 151, 'என்னால்': 152, 'என்னிடம்': 153, 'என்னுடைய': 154, 'என்னுடையத்': 155, 'என்னை': 156, 'என்னைப்': 157, 'என்பதில்': 158, 'என்பது': 159, 'என்பதை': 160, 'என்றால்': 161, 'என்று': 162, 'எப்ப': 163, 'எப்படி': 164, 'எப்பொழுது': 165, 'எப்பொழுதும்': 166, 'எப்போது': 167, 'எறியக்': 168, 'எல்லோரும்': 169, 'எழுதப்': 170, 'எழுப்பு': 171, 'எழுவதற்கான': 172, 'ஏதாவது': 173, 'ஏதோ': 174, 'ஏன்': 175, 'ஏரியில்': 176, 'ஏற்பட்டது': 177, 'ஒட்டினக்': 178, 'ஒரு': 179, 'ஒருவனால்': 180, 'ஒருவர்': 181, 'ஒலித்தப்': 182, 'ஒவ்வொரு': 183, 'ஒவ்வொருவருக்கும்': 184, 'ஓட': 185, 'ஓடினோம்': 186, 'ஓடிவிட்டால்COMMA': 187, 'ஓடுகிறான்': 188, 'ஓட்டத்': 189, 'ஓட்டாதே': 190, 'கடல்': 191, 'கடித்தாள்': 192, 'கடைப்': 193, 'கட்டணமில்லை': 194, 'கணக்கிற்கு': 195, 'கணிசமான': 196, 'கண்டால்': 197, 'கண்டுபிடிக்க': 198, 'கண்ணாடி': 199, 'கயிற்றை': 200, 'கரடிகளைக': 201, 'கருகிப்': 202, 'கல்யாணம்': 203, 'கல்லை': 204, 'கள்': 205, 'கவனி': 206, 'கவனிக்க': 207, 'காத்தார்கள்': 208, 'காத்திருங்கள்': 209, 'காரில்': 210, 'காலணிகளை': 211, 'காலத்தில்': 212, 'கால்பந்தை': 213, 'காவலன்': 214, 'கிடைத்தது': 215, 'கிண்டலடித்தார்கள்': 216, 'கிளம்ப': 217, 'கிழமையும்': 218, 'கீழ்': 219, 'குடித்தார்': 220, 'குடித்துவிட்டு': 221, 'குறைவாக': 222, 'கூட': 223, 'கூடம்': 224, 'கூடாது': 225, 'கூறினார்': 226, 'கேக்கானதுக்': 227, 'கேக்கின்': 228, 'கேக்குத்': 229, 'கேட்காதீர்': 230, 'கேட்டான்': 231, 'கேட்டாள்': 232, 'கேட்டு': 233, 'கேள்': 234, 'கையில்தான்': 235, 'கையைத்': 236, 'கொஞ்சம்': 237, 'கொடு': 238, 'கொடுத்தாள்': 239, 'கொண்டது': 240, 'கொண்டாள்': 241, 'கொண்டிருக்கிறது': 242, 'கொண்டிருக்கிறேன்': 243, 'கொண்டிருந்ததால்': 244, 'கோபமாக': 245, 'சகோதரர்': 246, 'சதுரத்திற்கு': 247, 'சந்திப்போம்': 248, 'சம்பந்தமில்லாத': 249, 'சம்பளம்': 250, 'சரியில்லாததனால்': 251, 'சறுக்கி': 252, 'சாப்பிட': 253, 'சாப்பிட்டேன்': 254, 'சிக்கிக்': 255, 'சின்ன': 256, 'சிரித்தாள்': 257, 'சிறைச்சாலையைப்': 258, 'சீக்கிரம்': 259, 'சீடி': 260, 'சுலபமான': 261, 'சென்றார்கள்': 262, 'சென்றாள்': 263, 'செயது': 264, 'செயல்படு': 265, 'செய்': 266, 'செய்தி': 267, 'செய்து': 268, 'செய்தேன்': 269, 'செய்ய': 270, 'செய்யத்': 271, 'செய்யும்படி': 272, 'செய்வது': 273, 'செய்வோமென்று': 274, 'செல்கிறான்': 275, 'செல்கிறேன்': 276, 'செல்ல': 277, 'சேன்றான்': 278, 'சேர்ந்து': 279, 'சைக்கிள்': 280, 'சொந்தமானது': 281, 'சொன்னான்': 282, 'சொன்னேன்': 283, 'சொல்': 284, 'சொல்லாதே': 285, 'சொல்வது': 286, 'சொல்வதைக்': 287, 'சோர்வாகயிருக்கிறேன்': 288, 'ஜப்பான்': 289, 'ஜாக்கிரதை': 290, 'ஜாக்கிரதையாக': 291, 'ஜானுக்கும்': 292, 'ஜேப்படி': 293, 'ஜேப்படிகாரர்களிடம்': 294, 'ஜோடி': 295, 'ஞாயிற்றுக்': 296, 'டாக்ஸியிலிருந்து': 297, 'டாமிடம்': 298, 'டாமுக்கும்': 299, 'டாமும்': 300, 'டாமை': 301, 'டாம்': 302, 'டிற்கு': 303, 'தங்களுடைய': 304, 'தங்கை': 305, 'தட்டுப்பாடு': 306, 'தந்தையருகில்': 307, 'தந்தையார்': 308, 'தயாராக': 309, 'தர': 310, 'தலையிடாதே': 311, 'தளத்தில்': 312, 'தவறினால்': 313, 'தவறு': 314, 'தாக்கின': 315, 'திட்டத்திற்கு': 316, 'திட்டமிட்டிருக்கிறாய்': 317, 'திருடனுக்குப்': 318, 'திருமணம்': 319, 'திரும்பி': 320, 'தீர்மானித்தாள்': 321, 'துண்டு': 322, 'தூக்கத்திலிருந்து': 323, 'தூக்கு': 324, 'தூங்க': 325, 'தூங்கினேன்': 326, 'தூங்கு': 327, 'தூங்குவதற்கு': 328, 'தெரிகிறது': 329, 'தெரியவில்லை': 330, 'தெரியுமா': 331, 'தெரியும்': 332, 'தெரிவித்தான்': 333, 'தெளிவாகவும்': 334, 'தேவாலயத்துக்குச்': 335, 'தேவை': 336, 'தொடர்பிலிருக்கிறான்': 337, 'தொடர்பிலிருந்துருக்கிறான்': 338, 'தொடர்பில்': 339, 'தொடர்வோம்': 340, 'தொண்டையில்': 341, 'தொப்பியின்': 342, 'தோன்றுகிறது': 343, 'நட': 344, 'நடக்க': 345, 'நடந்து': 346, 'நடனம்': 347, 'நடப்பேன்': 348, 'நடைப்': 349, 'நட்சத்திரங்கள்': 350, 'நட்புக்குத்': 351, 'நண்பரா': 352, 'நண்பர்கள்': 353, 'நம்பிக்கை': 354, 'நம்மால்': 355, 'நம்மைப்': 356, 'நள்ளிரவு': 357, 'நாங்கள்': 358, 'நாட்டிற்குச்': 359, 'நானும்': 360, 'நான்': 361, 'நான்கு': 362, 'நாமிருவரும்': 363, 'நாம்': 364, 'நாயின்': 365, 'நாய்': 366, 'நாய்கள்': 367, 'நாளாகிறது': 368, 'நாள்': 369, 'நிச்சயமாகியிருக்கு': 370, 'நிச்சயம்': 371, 'நிச்சயிக்கப்': 372, 'நினைக்கிறேன்': 373, 'நின்றாள்': 374, 'நிறைய': 375, 'நிலை': 376, 'நீ': 377, 'நீங்கள்': 378, 'நீச்சலடித்தான்': 379, 'நீச்சல்': 380, 'நெருக்கமாக': 381, 'நேரத்தைக்': 382, 'நேரம்': 383, 'பகிர்ந்துகொண்டு': 384, 'பக்கங்கள்': 385, 'பக்கத்தை': 386, 'பக்கம்தான்': 387, 'பசை': 388, 'படத்தை': 389, 'படிக்க': 390, 'படிக்கத்': 391, 'படுகிறான்': 392, 'படுகிறேன்': 393, 'படுத்துவதாக': 394, 'படுத்துவதைக்': 395, 'பட்டாள்': 396, 'பட்டிருந்தது': 397, 'பணக்காரராக': 398, 'பணமிருக்கிறது': 399, 'பணம்': 400, 'பதிலாக': 401, 'பதில்': 402, 'பத்திரிக்கையை': 403, 'பந்தை': 404, 'பனியில்': 405, 'பயன்': 406, 'பயப்படுவதில்லை': 407, 'பயம்': 408, 'பரவியது': 409, 'பரஸ்பர': 410, 'பரிந்துரைத்தான்': 411, 'பற்றி': 412, 'பற்று': 413, 'பளுவினால்': 414, 'பள்ளி': 415, 'பள்ளிக்கு': 416, 'பாட': 417, 'பாம்புகள்': 418, 'பார்': 419, 'பார்க்கவும்': 420, 'பார்க்கிறேன்': 421, 'பார்த்தாள்': 422, 'பார்ப்பதில்': 423, 'பாஸ்போர்ட்டைஎங்கே': 424, 'பிடி': 425, 'பின்னால்': 426, 'பின்பற்றுவோம்': 427, 'பியானோ': 428, 'பிறகு': 429, 'பிறந்த': 430, 'புத்தகங்கள்': 431, 'புத்தகத்தைக்': 432, 'பெய்யலாம்': 433, 'பெருமைப்': 434, 'பெற்றது': 435, 'பேசலாமா': 436, 'பேசிக்': 437, 'பேசியப்': 438, 'பேசியில்': 439, 'பேசு': 440, 'பேசுங்கள்': 441, 'பேசுவதில்லை': 442, 'பேனாக்கள்': 443, 'பைத்தியம்': 444, 'பையன்': 445, 'பொய்': 446, 'பொழுது': 447, 'போக': 448, 'போகத்': 449, 'போனதுதோலைப்': 450, 'போய்': 451, 'போல': 452, 'போவதென்றால்': 453, 'மகனைப்': 454, 'மகன்கள்': 455, 'மகிழ்ச்சி': 456, 'மகிழ்ச்சியாக': 457, 'மகிழ்ச்சியிலிருக்கிறேன்': 458, 'மக்கள்': 459, 'மட்டுமே': 460, 'மணி': 461, 'மணிக்கு': 462, 'மதியம்': 463, 'மறுபடியும்': 464, 'மற்றவர்களுக்கு': 465, 'மற்றும்': 466, 'மழை': 467, 'மாதிரி': 468, 'மாற்று': 469, 'மீது': 470, 'முடிகிறது': 471, 'முடியவில்லை': 472, 'முடியாது': 473, 'முடியும்': 474, 'முட்டைகளின்': 475, 'முட்டைகளை': 476, 'முன்னால்': 477, 'முன்னே': 478, 'முன்பு': 479, 'முயற்சி': 480, 'முழுவதும்': 481, 'மூடி': 482, 'மூன்று': 483, 'மெதுவாகவும்': 484, 'மேரியின்': 485, 'மேரியுடன்': 486, 'மேரியை': 487, 'மேலோட்டமாகப்': 488, 'மோசமான': 489, 'மோதிரத்தை': 490, 'யாருக்குத்': 491, 'யாரும்': 492, 'யார்': 493, 'ரொம்ப': 494, 'வசிக்கிறேன்': 495, 'வசிப்பவகள்': 496, 'வண்டி': 497, 'வந்தான்': 498, 'வந்தாய்': 499, 'வந்து': 500, 'வந்தேன்': 501, 'வயதிலேய': 502, 'வயது': 503, 'வயோதிகர்களிடம்': 504, 'வர': 505, 'வரச்': 506, 'வருடத்திற்கு': 507, 'வருவது': 508, 'வருவான்': 509, 'வரை': 510, 'வரைந்தான்': 511, 'வலது': 512, 'வழி': 513, 'வழியில்லை': 514, 'வா': 515, 'வாங்கினேன்': 516, 'வாசிக்கிறாளோ': 517, 'வானம்': 518, 'வாயை': 519, 'வார்த்தையைப்': 520, 'விட': 521, 'விடு': 522, 'விடுகிறேன்': 523, 'விட்டான்': 524, 'விட்டு': 525, 'விட்டுவிடு': 526, 'விதமான': 527, 'விமானியாக': 528, 'விரலில்': 529, 'விருப்பப்': 530, 'விருப்பமா': 531, 'விரும்புகிறேன்': 532, 'விரும்புவதில்லை': 533, 'விலை': 534, 'வில்லை': 535, 'விளையாடுவது': 536, 'விஷயம்': 537, 'வீடு': 538, 'வீட்': 539, 'வீட்டிற்கு': 540, 'வீட்டில்': 541, 'வெறுக்கிற': 542, 'வெளி': 543, 'வெளியே': 544, 'வேக': 545, 'வேகமாக': 546, 'வேண்டியிருந்தது': 547, 'வேண்டுமா': 548, 'வேண்டுமென': 549, 'வேண்டுமென்றால்': 550, 'வேண்டும்': 551, 'வேலை': 552, 'வேலையாட்கள்': 553, 'வைக்கப்': 554, 'வைத்தாள்': 555, 'வைத்திருக்கிறாய்': 556}\n"
          ],
          "name": "stdout"
        }
      ]
    },
    {
      "cell_type": "code",
      "metadata": {
        "id": "4UZHJbg0_UND"
      },
      "source": [
        "# creating arrays of input and output data\n",
        "encoder_input_data = np.zeros((len(Data.English), max_length_Source), dtype='float32')\n",
        "decoder_input_data = np.zeros((len(Data.Tamil), max_length_Target), dtype='float32')\n",
        "\n",
        "#one hot encoding the target data as Dense layer only gives one output through softmax layer\n",
        "decoder_target_data = np.zeros((len(Data.Tamil), max_length_Target, num_decoder_tokens))  "
      ],
      "execution_count": 22,
      "outputs": []
    },
    {
      "cell_type": "code",
      "metadata": {
        "colab": {
          "base_uri": "https://localhost:8080/"
        },
        "id": "DM-9ajL23I2_",
        "outputId": "eb84d9b9-d0da-49d6-b3c3-9be1689f7ac0"
      },
      "source": [
        "print(encoder_input_data.shape)\n",
        "print(decoder_input_data.shape)\n",
        "print(decoder_target_data.shape)"
      ],
      "execution_count": 23,
      "outputs": [
        {
          "output_type": "stream",
          "text": [
            "(203, 19)\n",
            "(203, 13)\n",
            "(203, 13, 557)\n"
          ],
          "name": "stdout"
        }
      ]
    },
    {
      "cell_type": "code",
      "metadata": {
        "id": "2G5eb2mS7q-r"
      },
      "source": [
        "# putting all the integer values in input, output data and target data\n",
        "for i,(input_text, output_text) in enumerate(zip(Data.English, Data.Tamil)):\n",
        "  for t, word in enumerate(input_text.split()):\n",
        "# if i = 0>>>>> for first sentence of input_text(English) , Whichever token is there assign its index value from input_token_index at the corresponding places in encoder_input_data\n",
        "    encoder_input_data[i,t] = input_token_index[word]                    \n",
        "  for t,word in enumerate(output_text.split()):\n",
        "    decoder_input_data[i,t] = output_token_index[word]\n",
        "    # as decoder target data is ahead of decoder input data, it will not include <sos> character(which will be given to decoder model at prediction)\n",
        "    if t > 0:\n",
        "      decoder_target_data[i,t-1,output_token_index[word]] = 1"
      ],
      "execution_count": 24,
      "outputs": []
    },
    {
      "cell_type": "code",
      "metadata": {
        "colab": {
          "base_uri": "https://localhost:8080/"
        },
        "id": "dtuKpXfEDpAr",
        "outputId": "c23a6f90-cb11-4295-ecf3-ffceddb42ef4"
      },
      "source": [
        "print(\"encoder input data: \", encoder_input_data[1])\n",
        "print('decoder input data: ', decoder_input_data[1])\n",
        "print('decoder target data: ',decoder_target_data[1])\n",
        "print('shape of sample decoder target data: ', decoder_target_data[1].shape)"
      ],
      "execution_count": 25,
      "outputs": [
        {
          "output_type": "stream",
          "text": [
            "encoder input data:  [61. 95.  0.  0.  0.  0.  0.  0.  0.  0.  0.  0.  0.  0.  0.  0.  0.  0.\n",
            "  0.]\n",
            "decoder input data:  [ 1. 27. 98.  0.  0.  0.  0.  0.  0.  0.  0.  0.  0.]\n",
            "decoder target data:  [[0. 0. 0. ... 0. 0. 0.]\n",
            " [0. 0. 0. ... 0. 0. 0.]\n",
            " [1. 0. 0. ... 0. 0. 0.]\n",
            " ...\n",
            " [0. 0. 0. ... 0. 0. 0.]\n",
            " [0. 0. 0. ... 0. 0. 0.]\n",
            " [0. 0. 0. ... 0. 0. 0.]]\n",
            "shape of sample decoder target data:  (13, 557)\n"
          ],
          "name": "stdout"
        }
      ]
    },
    {
      "cell_type": "code",
      "metadata": {
        "id": "sHMejlCWKwyJ"
      },
      "source": [
        "from numpy.random import seed\n",
        "seed(1)"
      ],
      "execution_count": 26,
      "outputs": []
    },
    {
      "cell_type": "code",
      "metadata": {
        "id": "tEatwOFfKelO"
      },
      "source": [
        "from keras.layers import Input, Embedding, LSTM, Dense"
      ],
      "execution_count": 27,
      "outputs": []
    },
    {
      "cell_type": "code",
      "metadata": {
        "id": "zwfiMor2Ki9E"
      },
      "source": [
        "#Parameters:\n",
        "embedding_size = 350\n",
        "Hid_dim = 600                                                  #Hidden State size"
      ],
      "execution_count": 28,
      "outputs": []
    },
    {
      "cell_type": "code",
      "metadata": {
        "id": "FWX8smpxBNU2"
      },
      "source": [
        "                                                                                           #<<<<<Model Building>>>>\n",
        "#Encoder:\n",
        "encoder_inputs = Input(shape=(None,))\n",
        "Enc_Embedding = Embedding(num_encoder_tokens, embedding_size)(encoder_inputs)\n",
        "encoder = LSTM(Hid_dim, return_state=True)  #Keras provides the return_state argument to the LSTM layer that will provide access to the hidden state output (state_h) and the cell state (state_c)\n",
        "encoder_outputs, state_h, state_c = encoder(Enc_Embedding)\n",
        "encoder_states = [state_h, state_c]\n",
        "\n",
        "#Decoder:\n",
        "decoder_inputs = Input(shape=(None,))\n",
        "Dec_Embedding = Embedding(num_decoder_tokens, embedding_size)(decoder_inputs)\n",
        "decoder = LSTM(Hid_dim, return_sequences=True, return_state=True) \n",
        "decoder_outputs, _, _ = decoder(Dec_Embedding, initial_state=encoder_states) # encoder_states = Context Vector      # and _,_ indicates discard states.\n",
        "decoder_dense = Dense(num_decoder_tokens, activation='softmax')\n",
        "decoder_outputs = decoder_dense(decoder_outputs)"
      ],
      "execution_count": 34,
      "outputs": []
    },
    {
      "cell_type": "code",
      "metadata": {
        "id": "pwqr2eOJEWxm"
      },
      "source": [
        "from tensorflow.keras.models import Model\n",
        "model = Model([encoder_inputs, decoder_inputs], decoder_outputs)"
      ],
      "execution_count": 35,
      "outputs": []
    },
    {
      "cell_type": "code",
      "metadata": {
        "id": "vlH2eXFaEbIu"
      },
      "source": [
        "model.compile(optimizer='rmsprop',loss = 'categorical_crossentropy',metrics=['accuracy'])"
      ],
      "execution_count": 36,
      "outputs": []
    },
    {
      "cell_type": "code",
      "metadata": {
        "colab": {
          "base_uri": "https://localhost:8080/"
        },
        "id": "aoi2XzjLEkI-",
        "outputId": "cc7a64e2-f440-413b-863f-efda299dca15"
      },
      "source": [
        "model.summary()"
      ],
      "execution_count": 37,
      "outputs": [
        {
          "output_type": "stream",
          "text": [
            "Model: \"model_1\"\n",
            "__________________________________________________________________________________________________\n",
            "Layer (type)                    Output Shape         Param #     Connected to                     \n",
            "==================================================================================================\n",
            "Total params: 5,229,957\n",
            "Trainable params: 5,229,957\n",
            "Non-trainable params: 0\n",
            "__________________________________________________________________________________________________\n"
          ],
          "name": "stdout"
        }
      ]
    },
    {
      "cell_type": "code",
      "metadata": {
        "colab": {
          "base_uri": "https://localhost:8080/"
        },
        "id": "fn7SnzJxGADT",
        "outputId": "9652ba51-f594-4e74-f7a3-cb7c09febf86"
      },
      "source": [
        "r = model.fit([encoder_input_data, decoder_input_data], decoder_target_data, batch_size=10, epochs=30, validation_split=0.10)"
      ],
      "execution_count": 38,
      "outputs": [
        {
          "output_type": "stream",
          "text": [
            "Epoch 1/30\n",
            "19/19 [==============================] - 12s 447ms/step - loss: 2.1359 - accuracy: 0.6378 - val_loss: 3.8932 - val_accuracy: 0.4908\n",
            "Epoch 2/30\n",
            "19/19 [==============================] - 8s 409ms/step - loss: 1.9167 - accuracy: 0.7168 - val_loss: 4.1700 - val_accuracy: 0.4835\n",
            "Epoch 3/30\n",
            "19/19 [==============================] - 8s 407ms/step - loss: 1.8780 - accuracy: 0.7164 - val_loss: 4.3518 - val_accuracy: 0.4762\n",
            "Epoch 4/30\n",
            "19/19 [==============================] - 8s 405ms/step - loss: 1.8425 - accuracy: 0.7172 - val_loss: 4.6801 - val_accuracy: 0.4799\n",
            "Epoch 5/30\n",
            "19/19 [==============================] - 8s 411ms/step - loss: 1.8207 - accuracy: 0.7194 - val_loss: 4.7283 - val_accuracy: 0.4908\n",
            "Epoch 6/30\n",
            "19/19 [==============================] - 8s 403ms/step - loss: 1.7914 - accuracy: 0.7172 - val_loss: 5.0576 - val_accuracy: 0.4799\n",
            "Epoch 7/30\n",
            "19/19 [==============================] - 8s 406ms/step - loss: 1.7687 - accuracy: 0.7168 - val_loss: 4.9505 - val_accuracy: 0.4799\n",
            "Epoch 8/30\n",
            "19/19 [==============================] - 8s 405ms/step - loss: 1.7294 - accuracy: 0.7168 - val_loss: 5.3341 - val_accuracy: 0.4945\n",
            "Epoch 9/30\n",
            "19/19 [==============================] - 8s 411ms/step - loss: 1.6989 - accuracy: 0.7177 - val_loss: 5.3957 - val_accuracy: 0.4799\n",
            "Epoch 10/30\n",
            "19/19 [==============================] - 8s 407ms/step - loss: 1.6569 - accuracy: 0.7202 - val_loss: 5.7252 - val_accuracy: 0.4799\n",
            "Epoch 11/30\n",
            "19/19 [==============================] - 8s 407ms/step - loss: 1.6179 - accuracy: 0.7202 - val_loss: 5.6650 - val_accuracy: 0.4945\n",
            "Epoch 12/30\n",
            "19/19 [==============================] - 8s 405ms/step - loss: 1.5831 - accuracy: 0.7249 - val_loss: 5.9636 - val_accuracy: 0.4908\n",
            "Epoch 13/30\n",
            "19/19 [==============================] - 8s 407ms/step - loss: 1.5414 - accuracy: 0.7253 - val_loss: 6.0109 - val_accuracy: 0.4982\n",
            "Epoch 14/30\n",
            "19/19 [==============================] - 8s 409ms/step - loss: 1.4965 - accuracy: 0.7240 - val_loss: 6.0316 - val_accuracy: 0.4945\n",
            "Epoch 15/30\n",
            "19/19 [==============================] - 8s 409ms/step - loss: 1.4611 - accuracy: 0.7265 - val_loss: 6.1190 - val_accuracy: 0.4872\n",
            "Epoch 16/30\n",
            "19/19 [==============================] - 8s 403ms/step - loss: 1.4141 - accuracy: 0.7278 - val_loss: 6.1682 - val_accuracy: 0.4799\n",
            "Epoch 17/30\n",
            "19/19 [==============================] - 8s 408ms/step - loss: 1.3843 - accuracy: 0.7312 - val_loss: 6.1538 - val_accuracy: 0.1868\n",
            "Epoch 18/30\n",
            "19/19 [==============================] - 8s 408ms/step - loss: 1.3344 - accuracy: 0.7003 - val_loss: 6.2372 - val_accuracy: 0.5018\n",
            "Epoch 19/30\n",
            "19/19 [==============================] - 8s 407ms/step - loss: 1.2871 - accuracy: 0.7363 - val_loss: 6.1671 - val_accuracy: 0.4908\n",
            "Epoch 20/30\n",
            "19/19 [==============================] - 8s 409ms/step - loss: 1.2517 - accuracy: 0.7375 - val_loss: 6.2106 - val_accuracy: 0.4872\n",
            "Epoch 21/30\n",
            "19/19 [==============================] - 8s 404ms/step - loss: 1.2105 - accuracy: 0.7434 - val_loss: 6.2177 - val_accuracy: 0.0879\n",
            "Epoch 22/30\n",
            "19/19 [==============================] - 8s 401ms/step - loss: 1.1552 - accuracy: 0.7227 - val_loss: 6.1732 - val_accuracy: 0.4982\n",
            "Epoch 23/30\n",
            "19/19 [==============================] - 8s 406ms/step - loss: 1.1346 - accuracy: 0.7549 - val_loss: 6.1830 - val_accuracy: 0.4945\n",
            "Epoch 24/30\n",
            "19/19 [==============================] - 8s 404ms/step - loss: 1.0822 - accuracy: 0.7637 - val_loss: 6.2114 - val_accuracy: 0.4945\n",
            "Epoch 25/30\n",
            "19/19 [==============================] - 8s 405ms/step - loss: 1.0458 - accuracy: 0.7346 - val_loss: 6.1573 - val_accuracy: 0.1026\n",
            "Epoch 26/30\n",
            "19/19 [==============================] - 8s 406ms/step - loss: 0.9952 - accuracy: 0.7405 - val_loss: 6.2606 - val_accuracy: 0.1062\n",
            "Epoch 27/30\n",
            "19/19 [==============================] - 8s 407ms/step - loss: 0.9713 - accuracy: 0.7375 - val_loss: 6.2721 - val_accuracy: 0.4982\n",
            "Epoch 28/30\n",
            "19/19 [==============================] - 8s 399ms/step - loss: 0.9431 - accuracy: 0.7811 - val_loss: 6.3192 - val_accuracy: 0.4982\n",
            "Epoch 29/30\n",
            "19/19 [==============================] - 8s 396ms/step - loss: 0.8953 - accuracy: 0.7967 - val_loss: 6.2311 - val_accuracy: 0.1062\n",
            "Epoch 30/30\n",
            "19/19 [==============================] - 8s 398ms/step - loss: 0.8600 - accuracy: 0.6982 - val_loss: 6.4174 - val_accuracy: 0.0879\n"
          ],
          "name": "stdout"
        }
      ]
    },
    {
      "cell_type": "code",
      "metadata": {
        "colab": {
          "base_uri": "https://localhost:8080/",
          "height": 312
        },
        "id": "Db6MAkJcRb7f",
        "outputId": "ade893ce-105f-4719-a707-88c1a08e88ed"
      },
      "source": [
        "# Now Summarize the history for loss\n",
        "import matplotlib.pyplot as plt\n",
        "\n",
        "plt.plot(r.history['loss'])\n",
        "plt.title('Model_loss')\n",
        "plt.xlabel('Epochs')\n",
        "plt.ylabel('Accuracy')\n",
        "plt.show"
      ],
      "execution_count": 39,
      "outputs": [
        {
          "output_type": "execute_result",
          "data": {
            "text/plain": [
              "<function matplotlib.pyplot.show>"
            ]
          },
          "metadata": {
            "tags": []
          },
          "execution_count": 39
        },
        {
          "output_type": "display_data",
          "data": {
            "image/png": "[encoded data removed]",
            "text/plain": [
              "<Figure size 432x288 with 1 Axes>"
            ]
          },
          "metadata": {
            "tags": [],
            "needs_background": "light"
          }
        }
      ]
    },
    {
      "cell_type": "code",
      "metadata": {
        "colab": {
          "base_uri": "https://localhost:8080/",
          "height": 312
        },
        "id": "ujp1hCjOT5QV",
        "outputId": "568f1934-0f4e-4715-fca6-05315e2f7171"
      },
      "source": [
        "# Now Summarize the history for accuracy\n",
        "plt.plot(r.history['accuracy'])\n",
        "plt.title('Accuracy')\n",
        "plt.xlabel('Epochs')\n",
        "plt.ylabel('Accuracy')\n",
        "plt.show"
      ],
      "execution_count": 40,
      "outputs": [
        {
          "output_type": "execute_result",
          "data": {
            "text/plain": [
              "<function matplotlib.pyplot.show>"
            ]
          },
          "metadata": {
            "tags": []
          },
          "execution_count": 40
        },
        {
          "output_type": "display_data",
          "data": {
            "image/png": "[encoded data removed]",
            "text/plain": [
              "<Figure size 432x288 with 1 Axes>"
            ]
          },
          "metadata": {
            "tags": [],
            "needs_background": "light"
          }
        }
      ]
    },
    {
      "cell_type": "code",
      "metadata": {
        "colab": {
          "base_uri": "https://localhost:8080/"
        },
        "id": "I-_O8hSiSSVy",
        "outputId": "eb95d914-559a-4e12-d6e3-cb42d1cd15e0"
      },
      "source": [
        "                                                                                     #Inference Stage:(Seq2Seq)\n",
        "#Encoder Model:\n",
        "encoder_model = Model(encoder_inputs, encoder_states)\n",
        "encoder_model.summary()\n",
        "\n",
        "#decoder model\n",
        "decoder_state_input_h = Input(shape=(Hid_dim,))\n",
        "decoder_state_input_c = Input(shape=(Hid_dim,))\n",
        "decoder_state_inputs = [decoder_state_input_h, decoder_state_input_c]\n",
        "\n",
        "Final_Embedding = Embedding(num_decoder_tokens, embedding_size)(decoder_inputs)\n",
        "\n",
        "decoder_outputs2, state_h2, state_c2 = decoder(Final_Embedding, initial_state=decoder_state_inputs)\n",
        "decoder_states2 = [state_h2, state_c2]\n",
        "decoder_outputs2 = decoder_dense(decoder_outputs2)\n",
        "\n",
        "decoder_model = Model([decoder_inputs] + decoder_state_inputs, [decoder_outputs2] + decoder_states2)"
      ],
      "execution_count": 43,
      "outputs": [
        {
          "output_type": "stream",
          "text": [
            "Model: \"model_4\"\n",
            "_________________________________________________________________\n",
            "Layer (type)                 Output Shape              Param #   \n",
            "=================================================================\n",
            "Total params: 2,417,850\n",
            "Trainable params: 2,417,850\n",
            "Non-trainable params: 0\n",
            "_________________________________________________________________\n"
          ],
          "name": "stdout"
        }
      ]
    },
    {
      "cell_type": "code",
      "metadata": {
        "colab": {
          "base_uri": "https://localhost:8080/"
        },
        "id": "WmQYPuGNl6KB",
        "outputId": "cfdcbd58-afd6-4039-8279-fe710c7a51bb"
      },
      "source": [
        "# reversing the word index dictionary to get words from index values\n",
        "reverse_input_char_index = dict((i,char) for char, i in input_token_index.items())\n",
        "reverse_output_char_index = dict((i,char) for char, i in output_token_index.items())\n",
        "print(reverse_input_char_index)\n",
        "print(reverse_output_char_index)"
      ],
      "execution_count": 44,
      "outputs": [
        {
          "output_type": "stream",
          "text": [
            "{0: 'COMMA', 1: 'a', 2: 'able', 3: 'about', 4: 'abroad', 5: 'account', 6: 'afraid', 7: 'after', 8: 'afternoon', 9: 'again', 10: 'ago', 11: 'ahead', 12: 'alive', 13: 'all', 14: 'am', 15: 'and', 16: 'angry', 17: 'answer', 18: 'any', 19: 'anymore', 20: 'anyone', 21: 'anything', 22: 'anywhere', 23: 'apple', 24: 'are', 25: 'arrived', 26: 'asked', 27: 'ate', 28: 'attacked', 29: 'australia', 30: 'aware', 31: 'awayCOMMA', 32: 'back', 33: 'ball', 34: 'be', 35: 'bears', 36: 'beautiful', 37: 'became', 38: 'because', 39: 'been', 40: 'before', 41: 'began', 42: 'begin', 43: 'bell', 44: 'belongs', 45: 'between', 46: 'beware', 47: 'bicycle', 48: 'birthday', 49: 'bit', 50: 'boiled', 51: 'book', 52: 'books', 53: 'bottom', 54: 'bought', 55: 'boy', 56: 'brother', 57: 'burned', 58: 'business', 59: 'by', 60: 'cake', 61: 'calm', 62: 'came', 63: 'can', 64: 'cant', 65: 'cap', 66: 'car', 67: 'cd', 68: 'cds', 69: 'charge', 70: 'church', 71: 'clearly', 72: 'close', 73: 'come', 74: 'contact', 75: 'cop', 76: 'could', 77: 'crazy', 78: 'cry', 79: 'crying', 80: 'dad', 81: 'danced', 82: 'danger', 83: 'dark', 84: 'death', 85: 'decent', 86: 'decided', 87: 'did', 88: 'didnt', 89: 'do', 90: 'does', 91: 'doesnt', 92: 'dog', 93: 'dogs', 94: 'dont', 95: 'down', 96: 'drank', 97: 'dress', 98: 'drink', 99: 'drive', 100: 'driven', 101: 'easy', 102: 'eat', 103: 'eggs', 104: 'eight', 105: 'engaged', 106: 'every', 107: 'everyone', 108: 'expect', 109: 'fast', 110: 'father', 111: 'fault', 112: 'find', 113: 'finger', 114: 'floor', 115: 'follow', 116: 'fond', 117: 'food', 118: 'for', 119: 'four', 120: 'free', 121: 'friend', 122: 'friends', 123: 'friendship', 124: 'full', 125: 'fun', 126: 'future', 127: 'gave', 128: 'get', 129: 'give', 130: 'glad', 131: 'glanced', 132: 'glass', 133: 'go', 134: 'goes', 135: 'going', 136: 'got', 137: 'gum', 138: 'had', 139: 'hand', 140: 'happy', 141: 'happyCOMMA', 142: 'has', 143: 'hates', 144: 'have', 145: 'he', 146: 'heard', 147: 'help', 148: 'her', 149: 'here', 150: 'hes', 151: 'him', 152: 'himself', 153: 'hit', 154: 'home', 155: 'house', 156: 'houses', 157: 'how', 158: 'hurts', 159: 'i', 160: 'if', 161: 'ill', 162: 'im', 163: 'in', 164: 'inch', 165: 'is', 166: 'it', 167: 'its', 168: 'ive', 169: 'japan', 170: 'john', 171: 'just', 172: 'keep', 173: 'kind', 174: 'know', 175: 'known', 176: 'knows', 177: 'lake', 178: 'leave', 179: 'let', 180: 'lie', 181: 'like', 182: 'likes', 183: 'listen', 184: 'live', 185: 'long', 186: 'looks', 187: 'lot', 188: 'made', 189: 'magazine', 190: 'married', 191: 'mary', 192: 'marys', 193: 'may', 194: 'me', 195: 'midnight', 196: 'mistake', 197: 'money', 198: 'most', 199: 'much', 200: 'mutual', 201: 'my', 202: 'need', 203: 'never', 204: 'news', 205: 'next', 206: 'no', 207: 'nobody', 208: 'none', 209: 'not', 210: 'notice', 211: 'now', 212: 'objected', 213: 'of', 214: 'old', 215: 'on', 216: 'others', 217: 'our', 218: 'out', 219: 'painted', 220: 'pair', 221: 'passport', 222: 'pay', 223: 'pens', 224: 'people', 225: 'phone', 226: 'piano', 227: 'picked', 228: 'pickpockets', 229: 'picture', 230: 'piece', 231: 'pilot', 232: 'place', 233: 'plan', 234: 'play', 235: 'please', 236: 'pocket', 237: 'price', 238: 'prison', 239: 'proud', 240: 'put', 241: 'quickly', 242: 'rain', 243: 'raise', 244: 'ran', 245: 'rang', 246: 'read', 247: 'ready', 248: 'requires', 249: 'rich', 250: 'ride', 251: 'right', 252: 'ring', 253: 'roll', 254: 'room', 255: 'rope', 256: 'run', 257: 'runs', 258: 'sat', 259: 'say', 260: 'says', 261: 'school', 262: 'sea', 263: 'see', 264: 'seems', 265: 'sharing', 266: 'she', 267: 'shoes', 268: 'short', 269: 'shouldnt', 270: 'shut', 271: 'sickCOMMA', 272: 'sides', 273: 'silent', 274: 'since', 275: 'sing', 276: 'sister', 277: 'sit', 278: 'six', 279: 'ski', 280: 'sky', 281: 'sleep', 282: 'slept', 283: 'slowly', 284: 'smiled', 285: 'snakes', 286: 'soccer', 287: 'some', 288: 'something', 289: 'son', 290: 'sons', 291: 'soon', 292: 'speak', 293: 'speaks', 294: 'spokeCOMMA', 295: 'spread', 296: 'square', 297: 'stars', 298: 'started', 299: 'still', 300: 'stones', 301: 'stood', 302: 'study', 303: 'suggested', 304: 'sunday', 305: 'suppose', 306: 'sure', 307: 'swallow', 308: 'swam', 309: 'sweet', 310: 'swimming', 311: 'take', 312: 'talk', 313: 'talking', 314: 'taller', 315: 'taxi', 316: 'teens', 317: 'tell', 318: 'than', 319: 'that', 320: 'thats', 321: 'the', 322: 'them', 323: 'there', 324: 'theres', 325: 'they', 326: 'theyre', 327: 'thief', 328: 'think', 329: 'this', 330: 'those', 331: 'thought', 332: 'three', 333: 'throat', 334: 'through', 335: 'throw', 336: 'time', 337: 'tired', 338: 'to', 339: 'together', 340: 'told', 341: 'tom', 342: 'too', 343: 'touch', 344: 'town', 345: 'train', 346: 'trust', 347: 'trying', 348: 'until', 349: 'up', 350: 'us', 351: 'use', 352: 'very', 353: 'vicious', 354: 'wage', 355: 'wait', 356: 'wake', 357: 'walk', 358: 'want', 359: 'was', 360: 'way', 361: 'we', 362: 'wedding', 363: 'well', 364: 'went', 365: 'were', 366: 'what', 367: 'when', 368: 'where', 369: 'which', 370: 'who', 371: 'why', 372: 'will', 373: 'with', 374: 'wonder', 375: 'word', 376: 'wore', 377: 'work', 378: 'workers', 379: 'write', 380: 'year', 381: 'you', 382: 'youd', 383: 'younger', 384: 'your', 385: 'youre', 386: 'yours'}\n",
            "{0: '<eos>', 1: '<sos>', 2: 'cd', 3: 'அ', 4: 'அங்குலமும்', 5: 'அங்கே', 6: 'அடிக்கப்', 7: 'அடித்தாள்', 8: 'அடைகிறேன்', 9: 'அணிந்திருந்தாள்', 10: 'அணிய', 11: 'அணிவித்தான்', 12: 'அதிகரித்துக்', 13: 'அது', 14: 'அதை', 15: 'அதைப்', 16: 'அதைப்பற்றி', 17: 'அந்த', 18: 'அனைவரும்', 19: 'அன்பாக', 20: 'அன்பானவள்', 21: 'அபாயத்தை', 22: 'அமரவும்', 23: 'அமருங்கள்COMMAதயவு', 24: 'அமர்ந்தாள்', 25: 'அமர்ந்தேன்', 26: 'அமைதி', 27: 'அமைதியாக', 28: 'அருகில்', 29: 'அறிந்திருக்க', 30: 'அறிமுகமானவன்', 31: 'அறையை', 32: 'அல்லது', 33: 'அழ', 34: 'அழகான', 35: 'அழுதுகொண்டேயிருக்கிறான்', 36: 'அவனால்', 37: 'அவனிடம்', 38: 'அவனுக்கு', 39: 'அவனுக்குக்', 40: 'அவனே', 41: 'அவனை', 42: 'அவனைக்', 43: 'அவனோடு', 44: 'அவன்', 45: 'அவரால்', 46: 'அவருக்கு', 47: 'அவர்', 48: 'அவர்களுக்கு', 49: 'அவர்கள்', 50: 'அவளிடம்', 51: 'அவளுக்கு', 52: 'அவளுக்குச்', 53: 'அவளோடு', 54: 'அவள்', 55: 'அவைகள்', 56: 'அவ்வளவு', 57: 'ஆச்சரியமடைகிறேன்', 58: 'ஆடினாள்', 59: 'ஆடை', 60: 'ஆப்பிள்', 61: 'ஆரம்பிக்கிறது', 62: 'ஆரம்பித்தான்', 63: 'ஆரம்பித்தாள்', 64: 'ஆரம்பித்தோம்', 65: 'ஆறு', 66: 'ஆஸ்திரேலியாவில்', 67: 'இங்கிருந்து', 68: 'இங்கே', 69: 'இடையில்', 70: 'இதற்கு', 71: 'இதில்', 72: 'இது', 73: 'இதை', 74: 'இதைக்', 75: 'இந்த', 76: 'இனிப்பாக', 77: 'இன்னும்', 78: 'இப்பொழுது', 79: 'இப்பொழுதுதான்', 80: 'இயலாது', 81: 'இரயிலில்', 82: 'இரு', 83: 'இருக்க', 84: 'இருக்கவில்லை', 85: 'இருக்கவும்', 86: 'இருக்கின்றன', 87: 'இருக்கின்றனவா', 88: 'இருக்கிறதா', 89: 'இருக்கிறது', 90: 'இருக்கிறான்', 91: 'இருக்கிறார்கள்', 92: 'இருக்கிறாள்', 93: 'இருக்கிறீர்களா', 94: 'இருக்கிறேன்', 95: 'இருக்கிறோம்', 96: 'இருக்கு', 97: 'இருக்கும்', 98: 'இருங்கள்', 99: 'இருட்டாக', 100: 'இருந்ததில்லை', 101: 'இருந்தார்', 102: 'இருந்தோம்', 103: 'இருப்பாய்', 104: 'இறங்கினேன்', 105: 'இறந்து', 106: 'இல்லை', 107: 'இள', 108: 'இவர்களில்', 109: 'உங்களுக்கு', 110: 'உங்களுடைய', 111: 'உங்கள்', 112: 'உடனே', 113: 'உடல்', 114: 'உணவு', 115: 'உண்டு', 116: 'உதவி', 117: 'உனக்குத்', 118: 'உன்', 119: 'உன்னிடம்', 120: 'உன்னுடைய', 121: 'உன்னை', 122: 'உன்னைத்', 123: 'உன்னைப்', 124: 'உயரமாக', 125: 'உயிருடனிருக்கிறான்', 126: 'உருட்டி', 127: 'உறுதியாக', 128: 'உள்ளன', 129: 'ஊரின்', 130: 'எங்களுக்கு', 131: 'எங்களுடன்', 132: 'எங்களுடைய', 133: 'எங்களை', 134: 'எங்கு', 135: 'எங்கே', 136: 'எடுத்தார்', 137: 'எட்டு', 138: 'எண்ணிக்கொண்டிருக்காதே', 139: 'எண்ணினேன்', 140: 'எண்ணுகிறார்கள்', 141: 'எண்ணுகிறேன்', 142: 'எதற்கும்', 143: 'எதிர்', 144: 'எதிர்ப்புத்', 145: 'என', 146: 'எனக்கு', 147: 'எனக்குக்', 148: 'எனக்குத்', 149: 'எனக்குப்', 150: 'என்', 151: 'என்ன', 152: 'என்னால்', 153: 'என்னிடம்', 154: 'என்னுடைய', 155: 'என்னுடையத்', 156: 'என்னை', 157: 'என்னைப்', 158: 'என்பதில்', 159: 'என்பது', 160: 'என்பதை', 161: 'என்றால்', 162: 'என்று', 163: 'எப்ப', 164: 'எப்படி', 165: 'எப்பொழுது', 166: 'எப்பொழுதும்', 167: 'எப்போது', 168: 'எறியக்', 169: 'எல்லோரும்', 170: 'எழுதப்', 171: 'எழுப்பு', 172: 'எழுவதற்கான', 173: 'ஏதாவது', 174: 'ஏதோ', 175: 'ஏன்', 176: 'ஏரியில்', 177: 'ஏற்பட்டது', 178: 'ஒட்டினக்', 179: 'ஒரு', 180: 'ஒருவனால்', 181: 'ஒருவர்', 182: 'ஒலித்தப்', 183: 'ஒவ்வொரு', 184: 'ஒவ்வொருவருக்கும்', 185: 'ஓட', 186: 'ஓடினோம்', 187: 'ஓடிவிட்டால்COMMA', 188: 'ஓடுகிறான்', 189: 'ஓட்டத்', 190: 'ஓட்டாதே', 191: 'கடல்', 192: 'கடித்தாள்', 193: 'கடைப்', 194: 'கட்டணமில்லை', 195: 'கணக்கிற்கு', 196: 'கணிசமான', 197: 'கண்டால்', 198: 'கண்டுபிடிக்க', 199: 'கண்ணாடி', 200: 'கயிற்றை', 201: 'கரடிகளைக', 202: 'கருகிப்', 203: 'கல்யாணம்', 204: 'கல்லை', 205: 'கள்', 206: 'கவனி', 207: 'கவனிக்க', 208: 'காத்தார்கள்', 209: 'காத்திருங்கள்', 210: 'காரில்', 211: 'காலணிகளை', 212: 'காலத்தில்', 213: 'கால்பந்தை', 214: 'காவலன்', 215: 'கிடைத்தது', 216: 'கிண்டலடித்தார்கள்', 217: 'கிளம்ப', 218: 'கிழமையும்', 219: 'கீழ்', 220: 'குடித்தார்', 221: 'குடித்துவிட்டு', 222: 'குறைவாக', 223: 'கூட', 224: 'கூடம்', 225: 'கூடாது', 226: 'கூறினார்', 227: 'கேக்கானதுக்', 228: 'கேக்கின்', 229: 'கேக்குத்', 230: 'கேட்காதீர்', 231: 'கேட்டான்', 232: 'கேட்டாள்', 233: 'கேட்டு', 234: 'கேள்', 235: 'கையில்தான்', 236: 'கையைத்', 237: 'கொஞ்சம்', 238: 'கொடு', 239: 'கொடுத்தாள்', 240: 'கொண்டது', 241: 'கொண்டாள்', 242: 'கொண்டிருக்கிறது', 243: 'கொண்டிருக்கிறேன்', 244: 'கொண்டிருந்ததால்', 245: 'கோபமாக', 246: 'சகோதரர்', 247: 'சதுரத்திற்கு', 248: 'சந்திப்போம்', 249: 'சம்பந்தமில்லாத', 250: 'சம்பளம்', 251: 'சரியில்லாததனால்', 252: 'சறுக்கி', 253: 'சாப்பிட', 254: 'சாப்பிட்டேன்', 255: 'சிக்கிக்', 256: 'சின்ன', 257: 'சிரித்தாள்', 258: 'சிறைச்சாலையைப்', 259: 'சீக்கிரம்', 260: 'சீடி', 261: 'சுலபமான', 262: 'சென்றார்கள்', 263: 'சென்றாள்', 264: 'செயது', 265: 'செயல்படு', 266: 'செய்', 267: 'செய்தி', 268: 'செய்து', 269: 'செய்தேன்', 270: 'செய்ய', 271: 'செய்யத்', 272: 'செய்யும்படி', 273: 'செய்வது', 274: 'செய்வோமென்று', 275: 'செல்கிறான்', 276: 'செல்கிறேன்', 277: 'செல்ல', 278: 'சேன்றான்', 279: 'சேர்ந்து', 280: 'சைக்கிள்', 281: 'சொந்தமானது', 282: 'சொன்னான்', 283: 'சொன்னேன்', 284: 'சொல்', 285: 'சொல்லாதே', 286: 'சொல்வது', 287: 'சொல்வதைக்', 288: 'சோர்வாகயிருக்கிறேன்', 289: 'ஜப்பான்', 290: 'ஜாக்கிரதை', 291: 'ஜாக்கிரதையாக', 292: 'ஜானுக்கும்', 293: 'ஜேப்படி', 294: 'ஜேப்படிகாரர்களிடம்', 295: 'ஜோடி', 296: 'ஞாயிற்றுக்', 297: 'டாக்ஸியிலிருந்து', 298: 'டாமிடம்', 299: 'டாமுக்கும்', 300: 'டாமும்', 301: 'டாமை', 302: 'டாம்', 303: 'டிற்கு', 304: 'தங்களுடைய', 305: 'தங்கை', 306: 'தட்டுப்பாடு', 307: 'தந்தையருகில்', 308: 'தந்தையார்', 309: 'தயாராக', 310: 'தர', 311: 'தலையிடாதே', 312: 'தளத்தில்', 313: 'தவறினால்', 314: 'தவறு', 315: 'தாக்கின', 316: 'திட்டத்திற்கு', 317: 'திட்டமிட்டிருக்கிறாய்', 318: 'திருடனுக்குப்', 319: 'திருமணம்', 320: 'திரும்பி', 321: 'தீர்மானித்தாள்', 322: 'துண்டு', 323: 'தூக்கத்திலிருந்து', 324: 'தூக்கு', 325: 'தூங்க', 326: 'தூங்கினேன்', 327: 'தூங்கு', 328: 'தூங்குவதற்கு', 329: 'தெரிகிறது', 330: 'தெரியவில்லை', 331: 'தெரியுமா', 332: 'தெரியும்', 333: 'தெரிவித்தான்', 334: 'தெளிவாகவும்', 335: 'தேவாலயத்துக்குச்', 336: 'தேவை', 337: 'தொடர்பிலிருக்கிறான்', 338: 'தொடர்பிலிருந்துருக்கிறான்', 339: 'தொடர்பில்', 340: 'தொடர்வோம்', 341: 'தொண்டையில்', 342: 'தொப்பியின்', 343: 'தோன்றுகிறது', 344: 'நட', 345: 'நடக்க', 346: 'நடந்து', 347: 'நடனம்', 348: 'நடப்பேன்', 349: 'நடைப்', 350: 'நட்சத்திரங்கள்', 351: 'நட்புக்குத்', 352: 'நண்பரா', 353: 'நண்பர்கள்', 354: 'நம்பிக்கை', 355: 'நம்மால்', 356: 'நம்மைப்', 357: 'நள்ளிரவு', 358: 'நாங்கள்', 359: 'நாட்டிற்குச்', 360: 'நானும்', 361: 'நான்', 362: 'நான்கு', 363: 'நாமிருவரும்', 364: 'நாம்', 365: 'நாயின்', 366: 'நாய்', 367: 'நாய்கள்', 368: 'நாளாகிறது', 369: 'நாள்', 370: 'நிச்சயமாகியிருக்கு', 371: 'நிச்சயம்', 372: 'நிச்சயிக்கப்', 373: 'நினைக்கிறேன்', 374: 'நின்றாள்', 375: 'நிறைய', 376: 'நிலை', 377: 'நீ', 378: 'நீங்கள்', 379: 'நீச்சலடித்தான்', 380: 'நீச்சல்', 381: 'நெருக்கமாக', 382: 'நேரத்தைக்', 383: 'நேரம்', 384: 'பகிர்ந்துகொண்டு', 385: 'பக்கங்கள்', 386: 'பக்கத்தை', 387: 'பக்கம்தான்', 388: 'பசை', 389: 'படத்தை', 390: 'படிக்க', 391: 'படிக்கத்', 392: 'படுகிறான்', 393: 'படுகிறேன்', 394: 'படுத்துவதாக', 395: 'படுத்துவதைக்', 396: 'பட்டாள்', 397: 'பட்டிருந்தது', 398: 'பணக்காரராக', 399: 'பணமிருக்கிறது', 400: 'பணம்', 401: 'பதிலாக', 402: 'பதில்', 403: 'பத்திரிக்கையை', 404: 'பந்தை', 405: 'பனியில்', 406: 'பயன்', 407: 'பயப்படுவதில்லை', 408: 'பயம்', 409: 'பரவியது', 410: 'பரஸ்பர', 411: 'பரிந்துரைத்தான்', 412: 'பற்றி', 413: 'பற்று', 414: 'பளுவினால்', 415: 'பள்ளி', 416: 'பள்ளிக்கு', 417: 'பாட', 418: 'பாம்புகள்', 419: 'பார்', 420: 'பார்க்கவும்', 421: 'பார்க்கிறேன்', 422: 'பார்த்தாள்', 423: 'பார்ப்பதில்', 424: 'பாஸ்போர்ட்டைஎங்கே', 425: 'பிடி', 426: 'பின்னால்', 427: 'பின்பற்றுவோம்', 428: 'பியானோ', 429: 'பிறகு', 430: 'பிறந்த', 431: 'புத்தகங்கள்', 432: 'புத்தகத்தைக்', 433: 'பெய்யலாம்', 434: 'பெருமைப்', 435: 'பெற்றது', 436: 'பேசலாமா', 437: 'பேசிக்', 438: 'பேசியப்', 439: 'பேசியில்', 440: 'பேசு', 441: 'பேசுங்கள்', 442: 'பேசுவதில்லை', 443: 'பேனாக்கள்', 444: 'பைத்தியம்', 445: 'பையன்', 446: 'பொய்', 447: 'பொழுது', 448: 'போக', 449: 'போகத்', 450: 'போனதுதோலைப்', 451: 'போய்', 452: 'போல', 453: 'போவதென்றால்', 454: 'மகனைப்', 455: 'மகன்கள்', 456: 'மகிழ்ச்சி', 457: 'மகிழ்ச்சியாக', 458: 'மகிழ்ச்சியிலிருக்கிறேன்', 459: 'மக்கள்', 460: 'மட்டுமே', 461: 'மணி', 462: 'மணிக்கு', 463: 'மதியம்', 464: 'மறுபடியும்', 465: 'மற்றவர்களுக்கு', 466: 'மற்றும்', 467: 'மழை', 468: 'மாதிரி', 469: 'மாற்று', 470: 'மீது', 471: 'முடிகிறது', 472: 'முடியவில்லை', 473: 'முடியாது', 474: 'முடியும்', 475: 'முட்டைகளின்', 476: 'முட்டைகளை', 477: 'முன்னால்', 478: 'முன்னே', 479: 'முன்பு', 480: 'முயற்சி', 481: 'முழுவதும்', 482: 'மூடி', 483: 'மூன்று', 484: 'மெதுவாகவும்', 485: 'மேரியின்', 486: 'மேரியுடன்', 487: 'மேரியை', 488: 'மேலோட்டமாகப்', 489: 'மோசமான', 490: 'மோதிரத்தை', 491: 'யாருக்குத்', 492: 'யாரும்', 493: 'யார்', 494: 'ரொம்ப', 495: 'வசிக்கிறேன்', 496: 'வசிப்பவகள்', 497: 'வண்டி', 498: 'வந்தான்', 499: 'வந்தாய்', 500: 'வந்து', 501: 'வந்தேன்', 502: 'வயதிலேய', 503: 'வயது', 504: 'வயோதிகர்களிடம்', 505: 'வர', 506: 'வரச்', 507: 'வருடத்திற்கு', 508: 'வருவது', 509: 'வருவான்', 510: 'வரை', 511: 'வரைந்தான்', 512: 'வலது', 513: 'வழி', 514: 'வழியில்லை', 515: 'வா', 516: 'வாங்கினேன்', 517: 'வாசிக்கிறாளோ', 518: 'வானம்', 519: 'வாயை', 520: 'வார்த்தையைப்', 521: 'விட', 522: 'விடு', 523: 'விடுகிறேன்', 524: 'விட்டான்', 525: 'விட்டு', 526: 'விட்டுவிடு', 527: 'விதமான', 528: 'விமானியாக', 529: 'விரலில்', 530: 'விருப்பப்', 531: 'விருப்பமா', 532: 'விரும்புகிறேன்', 533: 'விரும்புவதில்லை', 534: 'விலை', 535: 'வில்லை', 536: 'விளையாடுவது', 537: 'விஷயம்', 538: 'வீடு', 539: 'வீட்', 540: 'வீட்டிற்கு', 541: 'வீட்டில்', 542: 'வெறுக்கிற', 543: 'வெளி', 544: 'வெளியே', 545: 'வேக', 546: 'வேகமாக', 547: 'வேண்டியிருந்தது', 548: 'வேண்டுமா', 549: 'வேண்டுமென', 550: 'வேண்டுமென்றால்', 551: 'வேண்டும்', 552: 'வேலை', 553: 'வேலையாட்கள்', 554: 'வைக்கப்', 555: 'வைத்தாள்', 556: 'வைத்திருக்கிறாய்'}\n"
          ],
          "name": "stdout"
        }
      ]
    },
    {
      "cell_type": "code",
      "metadata": {
        "id": "UTe6jHi5mP5J"
      },
      "source": [
        "# function to predict translation\n",
        "def decode_seq(input_seq):\n",
        "  state_values = encoder_model.predict(input_seq)\n",
        "\n",
        "  target_seq = np.zeros((1,1))\n",
        "\n",
        "  target_seq[0,0] = output_token_index['<sos>']\n",
        "\n",
        "  stop_condition = False\n",
        "  decoded_sentence = ''\n",
        "\n",
        "  while not stop_condition:\n",
        "    output_tokens, h, c = decoder_model.predict([target_seq] + state_values)\n",
        "\n",
        "    sampled_token_index = np.argmax(output_tokens[0,-1,:])\n",
        "    sampled_char = reverse_output_char_index[sampled_token_index]\n",
        "\n",
        "    decoded_sentence += ' ' + sampled_char\n",
        "\n",
        "    if(sampled_char == '<eos>' or len(decoded_sentence) > 52):\n",
        "      stop_condition = True\n",
        "\n",
        "    target_seq = np.zeros((1,1))\n",
        "    target_seq[0,0] = sampled_token_index\n",
        "\n",
        "    state_values = [h,c] \n",
        "\n",
        "  return decoded_sentence"
      ],
      "execution_count": 51,
      "outputs": []
    },
    {
      "cell_type": "code",
      "metadata": {
        "colab": {
          "base_uri": "https://localhost:8080/"
        },
        "id": "Cq6tsZ9MoGJR",
        "outputId": "7ae87508-417b-431d-951d-d4919250ad38"
      },
      "source": [
        "# testing the model for a sample from existing data\n",
        "for seq_index in [201]:\n",
        "  input_seq = encoder_input_data[seq_index:seq_index+1]\n",
        "  decoded_sentence = decode_seq(input_seq)\n",
        "  print('----')\n",
        "  print('Input_sentence: ', Data.English[seq_index:seq_index+1])\n",
        "  print('decoded sentence: ', decoded_sentence)"
      ],
      "execution_count": 57,
      "outputs": [
        {
          "output_type": "stream",
          "text": [
            "----\n",
            "Input_sentence:  201    if you want your workers to be happyCOMMA you ...\n",
            "Name: English, dtype: object\n",
            "decoded sentence:   நான் நான் ஏதாவது <eos>\n"
          ],
          "name": "stdout"
        }
      ]
    }
  ]
}